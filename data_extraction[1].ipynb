{
  "cells": [
    {
      "cell_type": "markdown",
      "source": [
        "Install dependencies"
      ],
      "metadata": {
        "id": "ortuUWkGnxsa"
      },
      "id": "ortuUWkGnxsa"
    },
    {
      "cell_type": "code",
      "source": [
        "!pip install selenium"
      ],
      "metadata": {
        "colab": {
          "base_uri": "https://localhost:8080/"
        },
        "id": "d5Z1pTWUm3ez",
        "outputId": "b01b8f3d-cfea-46d8-de20-beab99b118a9"
      },
      "id": "d5Z1pTWUm3ez",
      "execution_count": null,
      "outputs": [
        {
          "output_type": "stream",
          "name": "stdout",
          "text": [
            "Collecting selenium\n",
            "  Downloading selenium-4.36.0-py3-none-any.whl.metadata (7.5 kB)\n",
            "Requirement already satisfied: urllib3<3.0,>=2.5.0 in /usr/local/lib/python3.12/dist-packages (from urllib3[socks]<3.0,>=2.5.0->selenium) (2.5.0)\n",
            "Collecting trio<1.0,>=0.30.0 (from selenium)\n",
            "  Downloading trio-0.31.0-py3-none-any.whl.metadata (8.5 kB)\n",
            "Collecting trio-websocket<1.0,>=0.12.2 (from selenium)\n",
            "  Downloading trio_websocket-0.12.2-py3-none-any.whl.metadata (5.1 kB)\n",
            "Requirement already satisfied: certifi>=2025.6.15 in /usr/local/lib/python3.12/dist-packages (from selenium) (2025.10.5)\n",
            "Requirement already satisfied: typing_extensions<5.0,>=4.14.0 in /usr/local/lib/python3.12/dist-packages (from selenium) (4.15.0)\n",
            "Requirement already satisfied: websocket-client<2.0,>=1.8.0 in /usr/local/lib/python3.12/dist-packages (from selenium) (1.9.0)\n",
            "Requirement already satisfied: attrs>=23.2.0 in /usr/local/lib/python3.12/dist-packages (from trio<1.0,>=0.30.0->selenium) (25.4.0)\n",
            "Requirement already satisfied: sortedcontainers in /usr/local/lib/python3.12/dist-packages (from trio<1.0,>=0.30.0->selenium) (2.4.0)\n",
            "Requirement already satisfied: idna in /usr/local/lib/python3.12/dist-packages (from trio<1.0,>=0.30.0->selenium) (3.10)\n",
            "Collecting outcome (from trio<1.0,>=0.30.0->selenium)\n",
            "  Downloading outcome-1.3.0.post0-py2.py3-none-any.whl.metadata (2.6 kB)\n",
            "Requirement already satisfied: sniffio>=1.3.0 in /usr/local/lib/python3.12/dist-packages (from trio<1.0,>=0.30.0->selenium) (1.3.1)\n",
            "Collecting wsproto>=0.14 (from trio-websocket<1.0,>=0.12.2->selenium)\n",
            "  Downloading wsproto-1.2.0-py3-none-any.whl.metadata (5.6 kB)\n",
            "Requirement already satisfied: pysocks!=1.5.7,<2.0,>=1.5.6 in /usr/local/lib/python3.12/dist-packages (from urllib3[socks]<3.0,>=2.5.0->selenium) (1.7.1)\n",
            "Requirement already satisfied: h11<1,>=0.9.0 in /usr/local/lib/python3.12/dist-packages (from wsproto>=0.14->trio-websocket<1.0,>=0.12.2->selenium) (0.16.0)\n",
            "Downloading selenium-4.36.0-py3-none-any.whl (9.6 MB)\n",
            "\u001b[2K   \u001b[90m━━━━━━━━━━━━━━━━━━━━━━━━━━━━━━━━━━━━━━━━\u001b[0m \u001b[32m9.6/9.6 MB\u001b[0m \u001b[31m69.6 MB/s\u001b[0m eta \u001b[36m0:00:00\u001b[0m\n",
            "\u001b[?25hDownloading trio-0.31.0-py3-none-any.whl (512 kB)\n",
            "\u001b[2K   \u001b[90m━━━━━━━━━━━━━━━━━━━━━━━━━━━━━━━━━━━━━━━━\u001b[0m \u001b[32m512.7/512.7 kB\u001b[0m \u001b[31m35.1 MB/s\u001b[0m eta \u001b[36m0:00:00\u001b[0m\n",
            "\u001b[?25hDownloading trio_websocket-0.12.2-py3-none-any.whl (21 kB)\n",
            "Downloading outcome-1.3.0.post0-py2.py3-none-any.whl (10 kB)\n",
            "Downloading wsproto-1.2.0-py3-none-any.whl (24 kB)\n",
            "Installing collected packages: wsproto, outcome, trio, trio-websocket, selenium\n",
            "Successfully installed outcome-1.3.0.post0 selenium-4.36.0 trio-0.31.0 trio-websocket-0.12.2 wsproto-1.2.0\n"
          ]
        }
      ]
    },
    {
      "cell_type": "markdown",
      "source": [
        "Import required libraries"
      ],
      "metadata": {
        "id": "_D3FqvOTn7MB"
      },
      "id": "_D3FqvOTn7MB"
    },
    {
      "cell_type": "code",
      "execution_count": null,
      "id": "09ba97cd",
      "metadata": {
        "id": "09ba97cd"
      },
      "outputs": [],
      "source": [
        "from selenium import webdriver\n",
        "from selenium.webdriver.common.by import By\n",
        "from selenium.webdriver.support.wait import WebDriverWait\n",
        "from selenium.webdriver.support import expected_conditions as EC\n",
        "from selenium.webdriver import ActionChains\n",
        "import time\n",
        "from selenium.common.exceptions import NoSuchElementException\n",
        "import pandas as pd"
      ]
    },
    {
      "cell_type": "code",
      "execution_count": null,
      "id": "7ec740b2",
      "metadata": {
        "id": "7ec740b2"
      },
      "outputs": [],
      "source": [
        "# Initialize Chrome WebDriver\n",
        "options = webdriver.ChromeOptions()\n",
        "\n",
        "# Keep the browser open after the script finishes\n",
        "options.add_experimental_option(\"detach\", True)\n",
        "\n",
        "# Launch Chrome with the specified options\n",
        "driver = webdriver.Chrome(options=options)\n",
        "\n",
        "# Open website\n",
        "driver.get(\"https://www.cars24.com/\")\n",
        "driver.maximize_window()\n",
        "\n",
        "# Set an implicit wait (global wait)\n",
        "driver.implicitly_wait(5)\n",
        "\n",
        "# Create an explicit wait instance\n",
        "wait = WebDriverWait(driver, 20)\n",
        "\n",
        "wait.until(EC.presence_of_element_located((By.XPATH, \"//p[text()='Buy used car']\"))).click()\n",
        "\n",
        "wait.until(EC.presence_of_element_located((By.XPATH, \"//li[@data-title='Mumbai']\"))).click()\n",
        "\n",
        "# Create ActionChains instance for performing complex user actions\n",
        "action = ActionChains(driver)\n",
        "\n",
        "# Select Car Brand (e.g., Maruti)\n",
        "brand_selection = wait.until(EC.presence_of_element_located(\n",
        "    (By.XPATH, \"//div[@class='styles_brandModel__j_ScD  styles_customScrollbar__r7txj']//p[text()='Maruti']/..//span\")\n",
        "))\n",
        "\n",
        "driver.execute_script(\"arguments[0].scrollIntoView(true);\", brand_selection)\n",
        "\n",
        "# Hover over the brand element and click on it\n",
        "action.move_to_element(brand_selection).click().perform()\n",
        "time.sleep(2)\n",
        "\n",
        "prev_location = None\n",
        "\n",
        "# Dictionaries and lists to store scraped data\n",
        "Maruti_Suzuki_Cars_Data = {}\n",
        "car_names = []\n",
        "make_years = []\n",
        "fuel_types = []\n",
        "KMs_driven = []\n",
        "transmission_types = []\n",
        "prices = []\n",
        "\n",
        "\n",
        "# Handle Lazy Loading by Scrolling\n",
        "while True:\n",
        "\n",
        "    try:\n",
        "        driver.execute_script(\"window.scrollTo(0, 500);\")\n",
        "        element = driver.find_element(By.XPATH, \"//div[@style='height: 50px;']\")\n",
        "\n",
        "        location = element.location['y']\n",
        "\n",
        "        driver.execute_script(\"arguments[0].scrollIntoView(true);\", element)\n",
        "        time.sleep(1)\n",
        "\n",
        "        if prev_location == location:\n",
        "            print(\"No more new content.\")\n",
        "            break\n",
        "\n",
        "        prev_location = location\n",
        "\n",
        "    except NoSuchElementException:\n",
        "        print(\"End of scrollable content, No more new content.\")\n",
        "        break\n",
        "\n",
        "# Extract All Car detail elements\n",
        "car_eles = wait.until(EC.presence_of_all_elements_located(\n",
        "    (By.XPATH, \"//div[@class='styles_outer__NTVth']\")\n",
        "))\n",
        "\n",
        "print(f\"Total number of car cards found: {len(car_eles)}\")\n"
      ]
    },
    {
      "cell_type": "code",
      "execution_count": null,
      "id": "31bc4028",
      "metadata": {
        "id": "31bc4028",
        "outputId": "dc127e12-d3a9-427c-f1f8-4e4ae7e34af0"
      },
      "outputs": [
        {
          "name": "stdout",
          "output_type": "stream",
          "text": [
            "50/694 car listings processed...\n",
            "100/694 car listings processed...\n",
            "150/694 car listings processed...\n",
            "200/694 car listings processed...\n",
            "250/694 car listings processed...\n",
            "300/694 car listings processed...\n",
            "350/694 car listings processed...\n",
            "400/694 car listings processed...\n",
            "450/694 car listings processed...\n",
            "500/694 car listings processed...\n",
            "550/694 car listings processed...\n",
            "600/694 car listings processed...\n",
            "650/694 car listings processed...\n",
            "\n",
            "✅ Data extraction complete!\n",
            "Total cars extracted: 694\n",
            "Data saved to 'Maruti_Suzuki_Cars_Data.csv'\n"
          ]
        }
      ],
      "source": [
        "# Loop through each car element on the page and extract relevant information\n",
        "\n",
        "for i, car_ele in enumerate(car_eles, start=1):\n",
        "\n",
        "    try:\n",
        "        # Extract Car Name and Manufacturing Year\n",
        "        car_name_make_year_ele = car_ele.find_element(By.XPATH, \".//span[@class='sc-braxZu kjFjan']\")\n",
        "        action.move_to_element(car_name_make_year_ele).perform()\n",
        "        car_name_make_year = car_name_make_year_ele.text.split(maxsplit=1)\n",
        "        make_year = car_name_make_year[0]\n",
        "        car_name = car_name_make_year[1]\n",
        "\n",
        "        # Store data in respective lists\n",
        "        car_names.append(car_name)\n",
        "        make_years.append(make_year)\n",
        "\n",
        "\n",
        "        # Extract Car Specifications\n",
        "        km_driven = car_ele.find_element(By.XPATH, \".//ul//div[1]/p\").text\n",
        "        KMs_driven.append(km_driven)\n",
        "\n",
        "        fuel_type = car_ele.find_element(By.XPATH, \".//ul//div[2]/p\").text\n",
        "        fuel_types.append(fuel_type)\n",
        "\n",
        "        transmission_type = car_ele.find_element(By.XPATH, \".//ul//div[3]/p\").text\n",
        "        transmission_types.append(transmission_type)\n",
        "\n",
        "        # Extract Car Price\n",
        "        price = car_ele.find_element(By.XPATH, \".//p[@class='sc-braxZu cyPhJl']\").text\n",
        "        prices.append(price)\n",
        "\n",
        "        # Progress Logging\n",
        "        if len(prices) % 50 == 0:\n",
        "            print(f\"{i}/{len(car_eles)} car listings processed...\")\n",
        "\n",
        "    except Exception as e:\n",
        "        print(f\"Skipping car index {i} due to error: {e}\")\n",
        "        continue\n",
        "\n",
        "\n",
        "# Combine Data into Dictionary\n",
        "Maruti_Suzuki_Cars_Data = {\n",
        "    \"Car Name\": car_names,\n",
        "    \"KM Driven\": KMs_driven,\n",
        "    \"Manufactured Year\": make_years,\n",
        "    \"Fuel Type\": fuel_types,\n",
        "    \"Transmission\": transmission_types,\n",
        "    \"Price\": prices\n",
        "}\n",
        "\n",
        "# Convert to DataFrame and Save as CSV\n",
        "df = pd.DataFrame(Maruti_Suzuki_Cars_Data)\n",
        "\n",
        "# Save scraped data to a CSV file\n",
        "df.to_csv(\"Maruti_Suzuki_Cars_Data.csv\", index=False, encoding='utf-8-sig')\n",
        "\n",
        "print(\"\\nData extraction complete!\")\n",
        "print(f\"Total cars extracted: {len(df)}\")\n",
        "print(\"Data saved to 'Maruti_Suzuki_Cars_Data.csv'\")\n",
        "\n",
        "# Close Browser\n",
        "driver.close()\n"
      ]
    },
    {
      "cell_type": "markdown",
      "source": [
        "Data Cleaning"
      ],
      "metadata": {
        "id": "5ar271jpod1R"
      },
      "id": "5ar271jpod1R"
    },
    {
      "cell_type": "code",
      "source": [
        "#Importing libraries\n",
        "import pandas as pd\n",
        "import numpy as np\n",
        "\n",
        "# Load dataset\n",
        "df = pd.read_csv(\"Maruti_Suzuki_Cars_Data.csv\")\n",
        "\n",
        "# Overview of dataset\n",
        "print(\"Initial Shape:\", df.shape)\n",
        "print(\"\\nColumn Names:\\n\", df.columns.tolist())\n",
        "print(\"\\nMissing Values:\\n\", df.isnull().sum())\n",
        "\n",
        "# Remove duplicate rows\n",
        "df.drop_duplicates(inplace=True)\n",
        "\n",
        "# Standardize column names\n",
        "df.columns = df.columns.str.strip().str.lower().str.replace(\" \", \"_\")\n",
        "\n",
        "# Clean text columns (trim spaces, unify case)\n",
        "for col in df.select_dtypes(include='object').columns:\n",
        "    df[col] = df[col].astype(str).str.strip()\n",
        "\n",
        "# Clean up ₹ and commas (keep ₹ symbol)\n",
        "for col in df.columns:\n",
        "    if 'price' in col.lower():\n",
        "        df[col] = (\n",
        "            df[col]\n",
        "            .astype(str)\n",
        "            .str.replace(',', '', regex=True)\n",
        "            .str.replace('₹', '₹ ', regex=True)\n",
        "            .str.replace(r'\\s+', ' ', regex=True)\n",
        "            .str.strip()\n",
        "        )\n",
        "\n",
        "# Convert other numeric-like columns (except price)\n",
        "for col in df.columns:\n",
        "    if 'price' not in col.lower():\n",
        "        df[col] = pd.to_numeric(df[col], errors='ignore')\n",
        "\n",
        "# Handle missing values\n",
        "for col in df.columns:\n",
        "    if df[col].dtype in [np.float64, np.int64]:\n",
        "        df[col].fillna(df[col].median(), inplace=True)\n",
        "    else:\n",
        "        df[col].fillna(df[col].mode()[0], inplace=True)\n",
        "\n",
        "# Optional: remove unwanted special characters from text columns\n",
        "for col in df.select_dtypes(include='object').columns:\n",
        "    df[col] = df[col].str.replace(r'[^a-zA-Z0-9₹.,\\- ]', '', regex=True)\n",
        "\n",
        "# Final summary\n",
        "print(\"\\nCleaned Shape:\", df.shape)\n",
        "print(\"\\nData Types:\\n\", df.dtypes)\n",
        "print(\"\\nAny Nulls Remaining?:\", df.isnull().sum().sum())\n",
        "\n",
        "# Save cleaned dataset\n",
        "df.to_csv(\"Maruti_Suzuki_Cars_Data_Cleaned.csv\", index=False)\n",
        "print(\"\\nCleaned dataset saved as 'Maruti_Suzuki_Cars_Data_Cleaned.csv'\")\n"
      ],
      "metadata": {
        "colab": {
          "base_uri": "https://localhost:8080/"
        },
        "id": "laiAzyWTqeOo",
        "outputId": "1c368657-ed68-4471-e287-38e7946392a5"
      },
      "id": "laiAzyWTqeOo",
      "execution_count": 17,
      "outputs": [
        {
          "output_type": "stream",
          "name": "stdout",
          "text": [
            "Initial Shape: (694, 6)\n",
            "\n",
            "Column Names:\n",
            " ['Car Name', 'KM Driven', 'Manufactured Year', 'Fuel Type', 'Transmission', 'Price']\n",
            "\n",
            "Missing Values:\n",
            " Car Name             0\n",
            "KM Driven            0\n",
            "Manufactured Year    0\n",
            "Fuel Type            0\n",
            "Transmission         0\n",
            "Price                0\n",
            "dtype: int64\n",
            "\n",
            "Cleaned Shape: (694, 6)\n",
            "\n",
            "Data Types:\n",
            " car_name             object\n",
            "km_driven            object\n",
            "manufactured_year     int64\n",
            "fuel_type            object\n",
            "transmission         object\n",
            "price                object\n",
            "dtype: object\n",
            "\n",
            "Any Nulls Remaining?: 0\n",
            "\n",
            "Cleaned dataset saved as 'Maruti_Suzuki_Cars_Data_Cleaned.csv'\n"
          ]
        },
        {
          "output_type": "stream",
          "name": "stderr",
          "text": [
            "/tmp/ipython-input-1437135271.py:39: FutureWarning: errors='ignore' is deprecated and will raise in a future version. Use to_numeric without passing `errors` and catch exceptions explicitly instead\n",
            "  df[col] = pd.to_numeric(df[col], errors='ignore')\n",
            "/tmp/ipython-input-1437135271.py:46: FutureWarning: A value is trying to be set on a copy of a DataFrame or Series through chained assignment using an inplace method.\n",
            "The behavior will change in pandas 3.0. This inplace method will never work because the intermediate object on which we are setting values always behaves as a copy.\n",
            "\n",
            "For example, when doing 'df[col].method(value, inplace=True)', try using 'df.method({col: value}, inplace=True)' or df[col] = df[col].method(value) instead, to perform the operation inplace on the original object.\n",
            "\n",
            "\n",
            "  df[col].fillna(df[col].mode()[0], inplace=True)\n",
            "/tmp/ipython-input-1437135271.py:44: FutureWarning: A value is trying to be set on a copy of a DataFrame or Series through chained assignment using an inplace method.\n",
            "The behavior will change in pandas 3.0. This inplace method will never work because the intermediate object on which we are setting values always behaves as a copy.\n",
            "\n",
            "For example, when doing 'df[col].method(value, inplace=True)', try using 'df.method({col: value}, inplace=True)' or df[col] = df[col].method(value) instead, to perform the operation inplace on the original object.\n",
            "\n",
            "\n",
            "  df[col].fillna(df[col].median(), inplace=True)\n"
          ]
        }
      ]
    },
    {
      "cell_type": "markdown",
      "metadata": {
        "id": "7d384599"
      },
      "source": [
        "Visualize the data from \"Maruti_Suzuki_Cars_Data_Cleaned.csv\" by creating visualizations to explore the relationships between different features, such as price vs. manufacturing year and price vs. KM driven."
      ],
      "id": "7d384599"
    },
    {
      "cell_type": "markdown",
      "metadata": {
        "id": "011aed50"
      },
      "source": [
        "## Load the cleaned data\n",
        "\n",
        "### Subtask:\n",
        "Load the `Maruti_Suzuki_Cars_Data_Cleaned.csv` file into a pandas DataFrame.\n"
      ],
      "id": "011aed50"
    },
    {
      "cell_type": "markdown",
      "metadata": {
        "id": "99077e6b"
      },
      "source": [
        "**Reasoning**:\n",
        "The subtask is to load the cleaned CSV file into a DataFrame and display its head and info. This can be done in a single code block.\n",
        "\n"
      ],
      "id": "99077e6b"
    },
    {
      "cell_type": "code",
      "metadata": {
        "colab": {
          "base_uri": "https://localhost:8080/",
          "height": 464
        },
        "id": "176701db",
        "outputId": "c264dff9-e2d6-4d7b-fa25-44f28e1e6740"
      },
      "source": [
        "import pandas as pd\n",
        "\n",
        "df_cleaned = pd.read_csv(\"Maruti_Suzuki_Cars_Data_Cleaned.csv\")\n",
        "display(df_cleaned.head())\n",
        "display(df_cleaned.info())"
      ],
      "id": "176701db",
      "execution_count": 18,
      "outputs": [
        {
          "output_type": "display_data",
          "data": {
            "text/plain": [
              "             car_name  km_driven  manufactured_year fuel_type transmission  \\\n",
              "0         Maruti Ciaz   8.32k km               2023    Petrol         Auto   \n",
              "1  Maruti Wagon R 1.0  43.42k km               2017    Petrol       Manual   \n",
              "2         Maruti Ritz  99.20k km               2013    Petrol       Manual   \n",
              "3        Maruti FRONX  24.00k km               2023    Petrol         Auto   \n",
              "4         Maruti Ciaz  36.60k km               2022    Petrol       Manual   \n",
              "\n",
              "         price  \n",
              "0  ₹ 8.15 lakh  \n",
              "1  ₹ 2.91 lakh  \n",
              "2  ₹ 1.65 lakh  \n",
              "3  ₹ 8.46 lakh  \n",
              "4  ₹ 6.40 lakh  "
            ],
            "text/html": [
              "\n",
              "  <div id=\"df-91d9039c-2d17-4cfc-9c22-4311555c7694\" class=\"colab-df-container\">\n",
              "    <div>\n",
              "<style scoped>\n",
              "    .dataframe tbody tr th:only-of-type {\n",
              "        vertical-align: middle;\n",
              "    }\n",
              "\n",
              "    .dataframe tbody tr th {\n",
              "        vertical-align: top;\n",
              "    }\n",
              "\n",
              "    .dataframe thead th {\n",
              "        text-align: right;\n",
              "    }\n",
              "</style>\n",
              "<table border=\"1\" class=\"dataframe\">\n",
              "  <thead>\n",
              "    <tr style=\"text-align: right;\">\n",
              "      <th></th>\n",
              "      <th>car_name</th>\n",
              "      <th>km_driven</th>\n",
              "      <th>manufactured_year</th>\n",
              "      <th>fuel_type</th>\n",
              "      <th>transmission</th>\n",
              "      <th>price</th>\n",
              "    </tr>\n",
              "  </thead>\n",
              "  <tbody>\n",
              "    <tr>\n",
              "      <th>0</th>\n",
              "      <td>Maruti Ciaz</td>\n",
              "      <td>8.32k km</td>\n",
              "      <td>2023</td>\n",
              "      <td>Petrol</td>\n",
              "      <td>Auto</td>\n",
              "      <td>₹ 8.15 lakh</td>\n",
              "    </tr>\n",
              "    <tr>\n",
              "      <th>1</th>\n",
              "      <td>Maruti Wagon R 1.0</td>\n",
              "      <td>43.42k km</td>\n",
              "      <td>2017</td>\n",
              "      <td>Petrol</td>\n",
              "      <td>Manual</td>\n",
              "      <td>₹ 2.91 lakh</td>\n",
              "    </tr>\n",
              "    <tr>\n",
              "      <th>2</th>\n",
              "      <td>Maruti Ritz</td>\n",
              "      <td>99.20k km</td>\n",
              "      <td>2013</td>\n",
              "      <td>Petrol</td>\n",
              "      <td>Manual</td>\n",
              "      <td>₹ 1.65 lakh</td>\n",
              "    </tr>\n",
              "    <tr>\n",
              "      <th>3</th>\n",
              "      <td>Maruti FRONX</td>\n",
              "      <td>24.00k km</td>\n",
              "      <td>2023</td>\n",
              "      <td>Petrol</td>\n",
              "      <td>Auto</td>\n",
              "      <td>₹ 8.46 lakh</td>\n",
              "    </tr>\n",
              "    <tr>\n",
              "      <th>4</th>\n",
              "      <td>Maruti Ciaz</td>\n",
              "      <td>36.60k km</td>\n",
              "      <td>2022</td>\n",
              "      <td>Petrol</td>\n",
              "      <td>Manual</td>\n",
              "      <td>₹ 6.40 lakh</td>\n",
              "    </tr>\n",
              "  </tbody>\n",
              "</table>\n",
              "</div>\n",
              "    <div class=\"colab-df-buttons\">\n",
              "\n",
              "  <div class=\"colab-df-container\">\n",
              "    <button class=\"colab-df-convert\" onclick=\"convertToInteractive('df-91d9039c-2d17-4cfc-9c22-4311555c7694')\"\n",
              "            title=\"Convert this dataframe to an interactive table.\"\n",
              "            style=\"display:none;\">\n",
              "\n",
              "  <svg xmlns=\"http://www.w3.org/2000/svg\" height=\"24px\" viewBox=\"0 -960 960 960\">\n",
              "    <path d=\"M120-120v-720h720v720H120Zm60-500h600v-160H180v160Zm220 220h160v-160H400v160Zm0 220h160v-160H400v160ZM180-400h160v-160H180v160Zm440 0h160v-160H620v160ZM180-180h160v-160H180v160Zm440 0h160v-160H620v160Z\"/>\n",
              "  </svg>\n",
              "    </button>\n",
              "\n",
              "  <style>\n",
              "    .colab-df-container {\n",
              "      display:flex;\n",
              "      gap: 12px;\n",
              "    }\n",
              "\n",
              "    .colab-df-convert {\n",
              "      background-color: #E8F0FE;\n",
              "      border: none;\n",
              "      border-radius: 50%;\n",
              "      cursor: pointer;\n",
              "      display: none;\n",
              "      fill: #1967D2;\n",
              "      height: 32px;\n",
              "      padding: 0 0 0 0;\n",
              "      width: 32px;\n",
              "    }\n",
              "\n",
              "    .colab-df-convert:hover {\n",
              "      background-color: #E2EBFA;\n",
              "      box-shadow: 0px 1px 2px rgba(60, 64, 67, 0.3), 0px 1px 3px 1px rgba(60, 64, 67, 0.15);\n",
              "      fill: #174EA6;\n",
              "    }\n",
              "\n",
              "    .colab-df-buttons div {\n",
              "      margin-bottom: 4px;\n",
              "    }\n",
              "\n",
              "    [theme=dark] .colab-df-convert {\n",
              "      background-color: #3B4455;\n",
              "      fill: #D2E3FC;\n",
              "    }\n",
              "\n",
              "    [theme=dark] .colab-df-convert:hover {\n",
              "      background-color: #434B5C;\n",
              "      box-shadow: 0px 1px 3px 1px rgba(0, 0, 0, 0.15);\n",
              "      filter: drop-shadow(0px 1px 2px rgba(0, 0, 0, 0.3));\n",
              "      fill: #FFFFFF;\n",
              "    }\n",
              "  </style>\n",
              "\n",
              "    <script>\n",
              "      const buttonEl =\n",
              "        document.querySelector('#df-91d9039c-2d17-4cfc-9c22-4311555c7694 button.colab-df-convert');\n",
              "      buttonEl.style.display =\n",
              "        google.colab.kernel.accessAllowed ? 'block' : 'none';\n",
              "\n",
              "      async function convertToInteractive(key) {\n",
              "        const element = document.querySelector('#df-91d9039c-2d17-4cfc-9c22-4311555c7694');\n",
              "        const dataTable =\n",
              "          await google.colab.kernel.invokeFunction('convertToInteractive',\n",
              "                                                    [key], {});\n",
              "        if (!dataTable) return;\n",
              "\n",
              "        const docLinkHtml = 'Like what you see? Visit the ' +\n",
              "          '<a target=\"_blank\" href=https://colab.research.google.com/notebooks/data_table.ipynb>data table notebook</a>'\n",
              "          + ' to learn more about interactive tables.';\n",
              "        element.innerHTML = '';\n",
              "        dataTable['output_type'] = 'display_data';\n",
              "        await google.colab.output.renderOutput(dataTable, element);\n",
              "        const docLink = document.createElement('div');\n",
              "        docLink.innerHTML = docLinkHtml;\n",
              "        element.appendChild(docLink);\n",
              "      }\n",
              "    </script>\n",
              "  </div>\n",
              "\n",
              "\n",
              "    <div id=\"df-566992bb-089f-4413-855b-7e9bb9779990\">\n",
              "      <button class=\"colab-df-quickchart\" onclick=\"quickchart('df-566992bb-089f-4413-855b-7e9bb9779990')\"\n",
              "                title=\"Suggest charts\"\n",
              "                style=\"display:none;\">\n",
              "\n",
              "<svg xmlns=\"http://www.w3.org/2000/svg\" height=\"24px\"viewBox=\"0 0 24 24\"\n",
              "     width=\"24px\">\n",
              "    <g>\n",
              "        <path d=\"M19 3H5c-1.1 0-2 .9-2 2v14c0 1.1.9 2 2 2h14c1.1 0 2-.9 2-2V5c0-1.1-.9-2-2-2zM9 17H7v-7h2v7zm4 0h-2V7h2v10zm4 0h-2v-4h2v4z\"/>\n",
              "    </g>\n",
              "</svg>\n",
              "      </button>\n",
              "\n",
              "<style>\n",
              "  .colab-df-quickchart {\n",
              "      --bg-color: #E8F0FE;\n",
              "      --fill-color: #1967D2;\n",
              "      --hover-bg-color: #E2EBFA;\n",
              "      --hover-fill-color: #174EA6;\n",
              "      --disabled-fill-color: #AAA;\n",
              "      --disabled-bg-color: #DDD;\n",
              "  }\n",
              "\n",
              "  [theme=dark] .colab-df-quickchart {\n",
              "      --bg-color: #3B4455;\n",
              "      --fill-color: #D2E3FC;\n",
              "      --hover-bg-color: #434B5C;\n",
              "      --hover-fill-color: #FFFFFF;\n",
              "      --disabled-bg-color: #3B4455;\n",
              "      --disabled-fill-color: #666;\n",
              "  }\n",
              "\n",
              "  .colab-df-quickchart {\n",
              "    background-color: var(--bg-color);\n",
              "    border: none;\n",
              "    border-radius: 50%;\n",
              "    cursor: pointer;\n",
              "    display: none;\n",
              "    fill: var(--fill-color);\n",
              "    height: 32px;\n",
              "    padding: 0;\n",
              "    width: 32px;\n",
              "  }\n",
              "\n",
              "  .colab-df-quickchart:hover {\n",
              "    background-color: var(--hover-bg-color);\n",
              "    box-shadow: 0 1px 2px rgba(60, 64, 67, 0.3), 0 1px 3px 1px rgba(60, 64, 67, 0.15);\n",
              "    fill: var(--button-hover-fill-color);\n",
              "  }\n",
              "\n",
              "  .colab-df-quickchart-complete:disabled,\n",
              "  .colab-df-quickchart-complete:disabled:hover {\n",
              "    background-color: var(--disabled-bg-color);\n",
              "    fill: var(--disabled-fill-color);\n",
              "    box-shadow: none;\n",
              "  }\n",
              "\n",
              "  .colab-df-spinner {\n",
              "    border: 2px solid var(--fill-color);\n",
              "    border-color: transparent;\n",
              "    border-bottom-color: var(--fill-color);\n",
              "    animation:\n",
              "      spin 1s steps(1) infinite;\n",
              "  }\n",
              "\n",
              "  @keyframes spin {\n",
              "    0% {\n",
              "      border-color: transparent;\n",
              "      border-bottom-color: var(--fill-color);\n",
              "      border-left-color: var(--fill-color);\n",
              "    }\n",
              "    20% {\n",
              "      border-color: transparent;\n",
              "      border-left-color: var(--fill-color);\n",
              "      border-top-color: var(--fill-color);\n",
              "    }\n",
              "    30% {\n",
              "      border-color: transparent;\n",
              "      border-left-color: var(--fill-color);\n",
              "      border-top-color: var(--fill-color);\n",
              "      border-right-color: var(--fill-color);\n",
              "    }\n",
              "    40% {\n",
              "      border-color: transparent;\n",
              "      border-right-color: var(--fill-color);\n",
              "      border-top-color: var(--fill-color);\n",
              "    }\n",
              "    60% {\n",
              "      border-color: transparent;\n",
              "      border-right-color: var(--fill-color);\n",
              "    }\n",
              "    80% {\n",
              "      border-color: transparent;\n",
              "      border-right-color: var(--fill-color);\n",
              "      border-bottom-color: var(--fill-color);\n",
              "    }\n",
              "    90% {\n",
              "      border-color: transparent;\n",
              "      border-bottom-color: var(--fill-color);\n",
              "    }\n",
              "  }\n",
              "</style>\n",
              "\n",
              "      <script>\n",
              "        async function quickchart(key) {\n",
              "          const quickchartButtonEl =\n",
              "            document.querySelector('#' + key + ' button');\n",
              "          quickchartButtonEl.disabled = true;  // To prevent multiple clicks.\n",
              "          quickchartButtonEl.classList.add('colab-df-spinner');\n",
              "          try {\n",
              "            const charts = await google.colab.kernel.invokeFunction(\n",
              "                'suggestCharts', [key], {});\n",
              "          } catch (error) {\n",
              "            console.error('Error during call to suggestCharts:', error);\n",
              "          }\n",
              "          quickchartButtonEl.classList.remove('colab-df-spinner');\n",
              "          quickchartButtonEl.classList.add('colab-df-quickchart-complete');\n",
              "        }\n",
              "        (() => {\n",
              "          let quickchartButtonEl =\n",
              "            document.querySelector('#df-566992bb-089f-4413-855b-7e9bb9779990 button');\n",
              "          quickchartButtonEl.style.display =\n",
              "            google.colab.kernel.accessAllowed ? 'block' : 'none';\n",
              "        })();\n",
              "      </script>\n",
              "    </div>\n",
              "\n",
              "    </div>\n",
              "  </div>\n"
            ],
            "application/vnd.google.colaboratory.intrinsic+json": {
              "type": "dataframe",
              "summary": "{\n  \"name\": \"display(df_cleaned\",\n  \"rows\": 5,\n  \"fields\": [\n    {\n      \"column\": \"car_name\",\n      \"properties\": {\n        \"dtype\": \"string\",\n        \"num_unique_values\": 4,\n        \"samples\": [\n          \"Maruti Wagon R 1.0\",\n          \"Maruti FRONX\",\n          \"Maruti Ciaz\"\n        ],\n        \"semantic_type\": \"\",\n        \"description\": \"\"\n      }\n    },\n    {\n      \"column\": \"km_driven\",\n      \"properties\": {\n        \"dtype\": \"string\",\n        \"num_unique_values\": 5,\n        \"samples\": [\n          \"43.42k km\",\n          \"36.60k km\",\n          \"99.20k km\"\n        ],\n        \"semantic_type\": \"\",\n        \"description\": \"\"\n      }\n    },\n    {\n      \"column\": \"manufactured_year\",\n      \"properties\": {\n        \"dtype\": \"number\",\n        \"std\": 4,\n        \"min\": 2013,\n        \"max\": 2023,\n        \"num_unique_values\": 4,\n        \"samples\": [\n          2017,\n          2022,\n          2023\n        ],\n        \"semantic_type\": \"\",\n        \"description\": \"\"\n      }\n    },\n    {\n      \"column\": \"fuel_type\",\n      \"properties\": {\n        \"dtype\": \"category\",\n        \"num_unique_values\": 1,\n        \"samples\": [\n          \"Petrol\"\n        ],\n        \"semantic_type\": \"\",\n        \"description\": \"\"\n      }\n    },\n    {\n      \"column\": \"transmission\",\n      \"properties\": {\n        \"dtype\": \"category\",\n        \"num_unique_values\": 2,\n        \"samples\": [\n          \"Manual\"\n        ],\n        \"semantic_type\": \"\",\n        \"description\": \"\"\n      }\n    },\n    {\n      \"column\": \"price\",\n      \"properties\": {\n        \"dtype\": \"string\",\n        \"num_unique_values\": 5,\n        \"samples\": [\n          \"\\u20b9 2.91 lakh\"\n        ],\n        \"semantic_type\": \"\",\n        \"description\": \"\"\n      }\n    }\n  ]\n}"
            }
          },
          "metadata": {}
        },
        {
          "output_type": "stream",
          "name": "stdout",
          "text": [
            "<class 'pandas.core.frame.DataFrame'>\n",
            "RangeIndex: 694 entries, 0 to 693\n",
            "Data columns (total 6 columns):\n",
            " #   Column             Non-Null Count  Dtype \n",
            "---  ------             --------------  ----- \n",
            " 0   car_name           694 non-null    object\n",
            " 1   km_driven          694 non-null    object\n",
            " 2   manufactured_year  694 non-null    int64 \n",
            " 3   fuel_type          694 non-null    object\n",
            " 4   transmission       694 non-null    object\n",
            " 5   price              694 non-null    object\n",
            "dtypes: int64(1), object(5)\n",
            "memory usage: 32.7+ KB\n"
          ]
        },
        {
          "output_type": "display_data",
          "data": {
            "text/plain": [
              "None"
            ]
          },
          "metadata": {}
        }
      ]
    },
    {
      "cell_type": "markdown",
      "metadata": {
        "id": "76e439e9"
      },
      "source": [
        "## Importing visualization libraries\n",
        "\n",
        "### Subtask:\n",
        "Import the necessary libraries for plotting, such as `matplotlib.pyplot` and `seaborn`.\n"
      ],
      "id": "76e439e9"
    },
    {
      "cell_type": "markdown",
      "metadata": {
        "id": "d96447f5"
      },
      "source": [
        "**Reasoning**:\n",
        "Import the necessary libraries for plotting as requested.\n",
        "\n"
      ],
      "id": "d96447f5"
    },
    {
      "cell_type": "code",
      "metadata": {
        "id": "566af562"
      },
      "source": [
        "import matplotlib.pyplot as plt\n",
        "import seaborn as sns"
      ],
      "id": "566af562",
      "execution_count": 19,
      "outputs": []
    },
    {
      "cell_type": "markdown",
      "metadata": {
        "id": "be435920"
      },
      "source": [
        "## Visualize price vs. manufacturing year\n",
        "\n",
        "### Subtask:\n",
        "Create a scatter plot or a similar visualization to show the relationship between the car's manufacturing year and its price.\n"
      ],
      "id": "be435920"
    },
    {
      "cell_type": "markdown",
      "metadata": {
        "id": "bac1c560"
      },
      "source": [
        "**Reasoning**:\n",
        "Create a scatter plot to visualize the relationship between 'manufactured_year' and 'price'.\n",
        "\n"
      ],
      "id": "bac1c560"
    },
    {
      "cell_type": "code",
      "metadata": {
        "colab": {
          "base_uri": "https://localhost:8080/",
          "height": 472
        },
        "id": "a467f459",
        "outputId": "5a8a3ed4-3cfb-49a8-88cb-ee0f64185e1f"
      },
      "source": [
        "# Convert the 'price' column to a numerical format\n",
        "df_cleaned['price_numeric'] = df_cleaned['price'].str.replace('₹', '').str.replace(' lakh', 'e5').str.replace(' crore', 'e7').astype(float)\n",
        "\n",
        "# Create a scatter plot\n",
        "scatterplot_year_price = sns.scatterplot(x='manufactured_year', y='price_numeric', data=df_cleaned)\n",
        "\n",
        "# Set plot title and labels\n",
        "scatterplot_year_price.set_title('Relationship between Manufacturing Year and Price')\n",
        "scatterplot_year_price.set_xlabel('Manufactured Year')\n",
        "scatterplot_year_price.set_ylabel('Price (in Rupees)')\n",
        "\n",
        "# Show the plot\n",
        "plt.show()"
      ],
      "id": "a467f459",
      "execution_count": 20,
      "outputs": [
        {
          "output_type": "display_data",
          "data": {
            "text/plain": [
              "<Figure size 640x480 with 1 Axes>"
            ],
            "image/png": "[encoded data removed]"
          },
          "metadata": {}
        }
      ]
    },
    {
      "cell_type": "markdown",
      "metadata": {
        "id": "392a4cbf"
      },
      "source": [
        "## Visualize price vs. km driven\n",
        "\n",
        "### Subtask:\n",
        "Create a scatter plot or a similar visualization to show the relationship between the car's KM driven and its price.\n"
      ],
      "id": "392a4cbf"
    },
    {
      "cell_type": "markdown",
      "metadata": {
        "id": "ded39aec"
      },
      "source": [
        "**Reasoning**:\n",
        "Create a scatter plot to visualize the relationship between KM driven and price.\n",
        "\n"
      ],
      "id": "ded39aec"
    },
    {
      "cell_type": "code",
      "metadata": {
        "colab": {
          "base_uri": "https://localhost:8080/",
          "height": 472
        },
        "id": "dd93ff1d",
        "outputId": "058973a2-9da2-4e99-c09d-3aea09889267"
      },
      "source": [
        "# Create a scatter plot\n",
        "scatterplot_km_price = sns.scatterplot(x='km_driven', y='price_numeric', data=df_cleaned)\n",
        "\n",
        "# Set plot title and labels\n",
        "scatterplot_km_price.set_title('Relationship between KM Driven and Price')\n",
        "scatterplot_km_price.set_xlabel('KM Driven')\n",
        "scatterplot_km_price.set_ylabel('Price (in Rupees)')\n",
        "\n",
        "# Show the plot\n",
        "plt.show()"
      ],
      "id": "dd93ff1d",
      "execution_count": 21,
      "outputs": [
        {
          "output_type": "display_data",
          "data": {
            "text/plain": [
              "<Figure size 640x480 with 1 Axes>"
            ],
            "image/png": "[encoded data removed]"
          },
          "metadata": {}
        }
      ]
    },
    {
      "cell_type": "markdown",
      "metadata": {
        "id": "91bc08de"
      },
      "source": [
        "## Summary:\n",
        "\n",
        "### Data Analysis Key Findings\n",
        "\n",
        "*   A scatter plot was generated to visualize the relationship between the manufacturing year and the price of the cars.\n",
        "*   A scatter plot was generated to visualize the relationship between the kilometers driven and the price of the cars.\n",
        "\n",
        "### Insights or Next Steps\n",
        "\n",
        "*   Examine the scatter plots to identify any clear trends or patterns in the relationship between manufacturing year and price, and between KM driven and price.\n",
        "*   Consider performing further analysis, such as calculating correlation coefficients, to quantify the strength and direction of these relationships.\n"
      ],
      "id": "91bc08de"
    }
  ],
  "metadata": {
    "kernelspec": {
      "display_name": "DE (3.11.9)",
      "language": "python",
      "name": "python3"
    },
    "language_info": {
      "codemirror_mode": {
        "name": "ipython",
        "version": 3
      },
      "file_extension": ".py",
      "mimetype": "text/x-python",
      "name": "python",
      "nbconvert_exporter": "python",
      "pygments_lexer": "ipython3",
      "version": "3.11.9"
    },
    "colab": {
      "provenance": []
    }
  },
  "nbformat": 4,
  "nbformat_minor": 5
}